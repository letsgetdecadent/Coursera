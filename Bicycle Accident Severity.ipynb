{
    "cells": [
        {
            "cell_type": "markdown",
            "metadata": {},
            "source": "# Introduction\n\nWhen involved in a collision, cyclists are six times more likely to incur injury than solely property damage. Compared to situations involving only cars, inuries only occur once of out every four instances. Therefore persons are more than twice as likely to be injured on a bicycle than if they were in another vehicle.\n\nThere are many things cyclists can do to avoid collisions, but inevitably other factors remain compeltely out of their control. This model seeks to calculate the propensity of factors like Weather, Road and Light Condition and others in contributing to collisions that injure cyclists. Cyclists can then better judge based on the situation as to when they should potentially consider a different form of transporation (if possible) or seek to be more on guard towards a particular variable of the road."
        },
        {
            "cell_type": "markdown",
            "metadata": {},
            "source": "# Data Section\n\n#### The data set being used for analysis is from the Seattle Department of Transporation cataloging collisions from 2004 to the present."
        },
        {
            "cell_type": "code",
            "execution_count": 1,
            "metadata": {},
            "outputs": [],
            "source": "url = 'https://s3.us.cloud-object-storage.appdomain.cloud/cf-courses-data/CognitiveClass/DP0701EN/version-2/Data-Collisions.csv'"
        },
        {
            "cell_type": "code",
            "execution_count": 2,
            "metadata": {},
            "outputs": [
                {
                    "name": "stderr",
                    "output_type": "stream",
                    "text": "/opt/conda/envs/Python36/lib/python3.6/site-packages/IPython/core/interactiveshell.py:3020: DtypeWarning: Columns (33) have mixed types. Specify dtype option on import or set low_memory=False.\n  interactivity=interactivity, compiler=compiler, result=result)\n"
                },
                {
                    "data": {
                        "text/html": "<div>\n<style scoped>\n    .dataframe tbody tr th:only-of-type {\n        vertical-align: middle;\n    }\n\n    .dataframe tbody tr th {\n        vertical-align: top;\n    }\n\n    .dataframe thead th {\n        text-align: right;\n    }\n</style>\n<table border=\"1\" class=\"dataframe\">\n  <thead>\n    <tr style=\"text-align: right;\">\n      <th></th>\n      <th>SEVERITYCODE</th>\n      <th>X</th>\n      <th>Y</th>\n      <th>OBJECTID</th>\n      <th>INCKEY</th>\n      <th>COLDETKEY</th>\n      <th>REPORTNO</th>\n      <th>STATUS</th>\n      <th>ADDRTYPE</th>\n      <th>INTKEY</th>\n      <th>...</th>\n      <th>ROADCOND</th>\n      <th>LIGHTCOND</th>\n      <th>PEDROWNOTGRNT</th>\n      <th>SDOTCOLNUM</th>\n      <th>SPEEDING</th>\n      <th>ST_COLCODE</th>\n      <th>ST_COLDESC</th>\n      <th>SEGLANEKEY</th>\n      <th>CROSSWALKKEY</th>\n      <th>HITPARKEDCAR</th>\n    </tr>\n  </thead>\n  <tbody>\n    <tr>\n      <th>0</th>\n      <td>2</td>\n      <td>-122.323148</td>\n      <td>47.703140</td>\n      <td>1</td>\n      <td>1307</td>\n      <td>1307</td>\n      <td>3502005</td>\n      <td>Matched</td>\n      <td>Intersection</td>\n      <td>37475.0</td>\n      <td>...</td>\n      <td>Wet</td>\n      <td>Daylight</td>\n      <td>NaN</td>\n      <td>NaN</td>\n      <td>NaN</td>\n      <td>10</td>\n      <td>Entering at angle</td>\n      <td>0</td>\n      <td>0</td>\n      <td>N</td>\n    </tr>\n    <tr>\n      <th>1</th>\n      <td>1</td>\n      <td>-122.347294</td>\n      <td>47.647172</td>\n      <td>2</td>\n      <td>52200</td>\n      <td>52200</td>\n      <td>2607959</td>\n      <td>Matched</td>\n      <td>Block</td>\n      <td>NaN</td>\n      <td>...</td>\n      <td>Wet</td>\n      <td>Dark - Street Lights On</td>\n      <td>NaN</td>\n      <td>6354039.0</td>\n      <td>NaN</td>\n      <td>11</td>\n      <td>From same direction - both going straight - bo...</td>\n      <td>0</td>\n      <td>0</td>\n      <td>N</td>\n    </tr>\n    <tr>\n      <th>2</th>\n      <td>1</td>\n      <td>-122.334540</td>\n      <td>47.607871</td>\n      <td>3</td>\n      <td>26700</td>\n      <td>26700</td>\n      <td>1482393</td>\n      <td>Matched</td>\n      <td>Block</td>\n      <td>NaN</td>\n      <td>...</td>\n      <td>Dry</td>\n      <td>Daylight</td>\n      <td>NaN</td>\n      <td>4323031.0</td>\n      <td>NaN</td>\n      <td>32</td>\n      <td>One parked--one moving</td>\n      <td>0</td>\n      <td>0</td>\n      <td>N</td>\n    </tr>\n    <tr>\n      <th>3</th>\n      <td>1</td>\n      <td>-122.334803</td>\n      <td>47.604803</td>\n      <td>4</td>\n      <td>1144</td>\n      <td>1144</td>\n      <td>3503937</td>\n      <td>Matched</td>\n      <td>Block</td>\n      <td>NaN</td>\n      <td>...</td>\n      <td>Dry</td>\n      <td>Daylight</td>\n      <td>NaN</td>\n      <td>NaN</td>\n      <td>NaN</td>\n      <td>23</td>\n      <td>From same direction - all others</td>\n      <td>0</td>\n      <td>0</td>\n      <td>N</td>\n    </tr>\n    <tr>\n      <th>4</th>\n      <td>2</td>\n      <td>-122.306426</td>\n      <td>47.545739</td>\n      <td>5</td>\n      <td>17700</td>\n      <td>17700</td>\n      <td>1807429</td>\n      <td>Matched</td>\n      <td>Intersection</td>\n      <td>34387.0</td>\n      <td>...</td>\n      <td>Wet</td>\n      <td>Daylight</td>\n      <td>NaN</td>\n      <td>4028032.0</td>\n      <td>NaN</td>\n      <td>10</td>\n      <td>Entering at angle</td>\n      <td>0</td>\n      <td>0</td>\n      <td>N</td>\n    </tr>\n  </tbody>\n</table>\n<p>5 rows \u00d7 38 columns</p>\n</div>",
                        "text/plain": "   SEVERITYCODE           X          Y  OBJECTID  INCKEY  COLDETKEY REPORTNO  \\\n0             2 -122.323148  47.703140         1    1307       1307  3502005   \n1             1 -122.347294  47.647172         2   52200      52200  2607959   \n2             1 -122.334540  47.607871         3   26700      26700  1482393   \n3             1 -122.334803  47.604803         4    1144       1144  3503937   \n4             2 -122.306426  47.545739         5   17700      17700  1807429   \n\n    STATUS      ADDRTYPE   INTKEY  ... ROADCOND                LIGHTCOND  \\\n0  Matched  Intersection  37475.0  ...      Wet                 Daylight   \n1  Matched         Block      NaN  ...      Wet  Dark - Street Lights On   \n2  Matched         Block      NaN  ...      Dry                 Daylight   \n3  Matched         Block      NaN  ...      Dry                 Daylight   \n4  Matched  Intersection  34387.0  ...      Wet                 Daylight   \n\n  PEDROWNOTGRNT  SDOTCOLNUM SPEEDING ST_COLCODE  \\\n0           NaN         NaN      NaN         10   \n1           NaN   6354039.0      NaN         11   \n2           NaN   4323031.0      NaN         32   \n3           NaN         NaN      NaN         23   \n4           NaN   4028032.0      NaN         10   \n\n                                          ST_COLDESC  SEGLANEKEY  \\\n0                                  Entering at angle           0   \n1  From same direction - both going straight - bo...           0   \n2                             One parked--one moving           0   \n3                   From same direction - all others           0   \n4                                  Entering at angle           0   \n\n   CROSSWALKKEY  HITPARKEDCAR  \n0             0             N  \n1             0             N  \n2             0             N  \n3             0             N  \n4             0             N  \n\n[5 rows x 38 columns]"
                    },
                    "execution_count": 2,
                    "metadata": {},
                    "output_type": "execute_result"
                }
            ],
            "source": "import pandas as pd\n\ndata = pd.read_csv(url)\ndata.head()"
        },
        {
            "cell_type": "code",
            "execution_count": 17,
            "metadata": {
                "scrolled": false
            },
            "outputs": [
                {
                    "name": "stdout",
                    "output_type": "stream",
                    "text": "(194673, 38)\n"
                },
                {
                    "data": {
                        "text/plain": "Index(['SEVERITYCODE', 'X', 'Y', 'OBJECTID', 'INCKEY', 'COLDETKEY', 'REPORTNO',\n       'STATUS', 'ADDRTYPE', 'INTKEY', 'LOCATION', 'EXCEPTRSNCODE',\n       'EXCEPTRSNDESC', 'SEVERITYCODE.1', 'SEVERITYDESC', 'COLLISIONTYPE',\n       'PERSONCOUNT', 'PEDCOUNT', 'PEDCYLCOUNT', 'VEHCOUNT', 'INCDATE',\n       'INCDTTM', 'JUNCTIONTYPE', 'SDOT_COLCODE', 'SDOT_COLDESC',\n       'INATTENTIONIND', 'UNDERINFL', 'WEATHER', 'ROADCOND', 'LIGHTCOND',\n       'PEDROWNOTGRNT', 'SDOTCOLNUM', 'SPEEDING', 'ST_COLCODE', 'ST_COLDESC',\n       'SEGLANEKEY', 'CROSSWALKKEY', 'HITPARKEDCAR'],\n      dtype='object')"
                    },
                    "execution_count": 17,
                    "metadata": {},
                    "output_type": "execute_result"
                }
            ],
            "source": "print(data.shape)\ndata.columns"
        },
        {
            "cell_type": "markdown",
            "metadata": {},
            "source": "#### The data is filtered down to only the essential attributes required for the model."
        },
        {
            "cell_type": "code",
            "execution_count": 30,
            "metadata": {},
            "outputs": [],
            "source": "filter_data = data[['SEVERITYCODE','OBJECTID','COLLISIONTYPE','PERSONCOUNT','PEDCOUNT','PEDCYLCOUNT','VEHCOUNT','INCDTTM','JUNCTIONTYPE','ROADCOND','LIGHTCOND','WEATHER','ST_COLCODE']]"
        },
        {
            "cell_type": "markdown",
            "metadata": {},
            "source": "#### The data is then further filtered to only include collisions involving a bicycle."
        },
        {
            "cell_type": "code",
            "execution_count": 31,
            "metadata": {
                "scrolled": true
            },
            "outputs": [
                {
                    "data": {
                        "text/html": "<div>\n<style scoped>\n    .dataframe tbody tr th:only-of-type {\n        vertical-align: middle;\n    }\n\n    .dataframe tbody tr th {\n        vertical-align: top;\n    }\n\n    .dataframe thead th {\n        text-align: right;\n    }\n</style>\n<table border=\"1\" class=\"dataframe\">\n  <thead>\n    <tr style=\"text-align: right;\">\n      <th></th>\n      <th>SEVERITYCODE</th>\n      <th>OBJECTID</th>\n      <th>COLLISIONTYPE</th>\n      <th>PERSONCOUNT</th>\n      <th>PEDCOUNT</th>\n      <th>PEDCYLCOUNT</th>\n      <th>VEHCOUNT</th>\n      <th>INCDTTM</th>\n      <th>JUNCTIONTYPE</th>\n      <th>ROADCOND</th>\n      <th>LIGHTCOND</th>\n      <th>WEATHER</th>\n      <th>ST_COLCODE</th>\n    </tr>\n  </thead>\n  <tbody>\n    <tr>\n      <th>7</th>\n      <td>2</td>\n      <td>9</td>\n      <td>Cycles</td>\n      <td>3</td>\n      <td>0</td>\n      <td>1</td>\n      <td>1</td>\n      <td>4/15/2020 5:47:00 PM</td>\n      <td>At Intersection (intersection related)</td>\n      <td>Dry</td>\n      <td>Daylight</td>\n      <td>Clear</td>\n      <td>5</td>\n    </tr>\n    <tr>\n      <th>25</th>\n      <td>2</td>\n      <td>34</td>\n      <td>Cycles</td>\n      <td>2</td>\n      <td>0</td>\n      <td>1</td>\n      <td>1</td>\n      <td>4/25/2019 9:40:00 AM</td>\n      <td>Mid-Block (not related to intersection)</td>\n      <td>Dry</td>\n      <td>Daylight</td>\n      <td>Clear</td>\n      <td>5</td>\n    </tr>\n    <tr>\n      <th>52</th>\n      <td>2</td>\n      <td>62</td>\n      <td>Cycles</td>\n      <td>3</td>\n      <td>0</td>\n      <td>1</td>\n      <td>1</td>\n      <td>3/29/2013 11:53:00 AM</td>\n      <td>At Intersection (intersection related)</td>\n      <td>Dry</td>\n      <td>Unknown</td>\n      <td>Clear</td>\n      <td>45</td>\n    </tr>\n    <tr>\n      <th>79</th>\n      <td>1</td>\n      <td>91</td>\n      <td>Cycles</td>\n      <td>2</td>\n      <td>0</td>\n      <td>1</td>\n      <td>1</td>\n      <td>3/28/2013 3:30:00 PM</td>\n      <td>At Intersection (intersection related)</td>\n      <td>Dry</td>\n      <td>Daylight</td>\n      <td>Clear</td>\n      <td>45</td>\n    </tr>\n    <tr>\n      <th>90</th>\n      <td>2</td>\n      <td>103</td>\n      <td>Other</td>\n      <td>1</td>\n      <td>0</td>\n      <td>1</td>\n      <td>0</td>\n      <td>10/11/2004 4:00:00 PM</td>\n      <td>Mid-Block (but intersection related)</td>\n      <td>Dry</td>\n      <td>Daylight</td>\n      <td>Clear</td>\n      <td>52</td>\n    </tr>\n  </tbody>\n</table>\n</div>",
                        "text/plain": "    SEVERITYCODE  OBJECTID COLLISIONTYPE  PERSONCOUNT  PEDCOUNT  PEDCYLCOUNT  \\\n7              2         9        Cycles            3         0            1   \n25             2        34        Cycles            2         0            1   \n52             2        62        Cycles            3         0            1   \n79             1        91        Cycles            2         0            1   \n90             2       103         Other            1         0            1   \n\n    VEHCOUNT                INCDTTM                             JUNCTIONTYPE  \\\n7          1   4/15/2020 5:47:00 PM   At Intersection (intersection related)   \n25         1   4/25/2019 9:40:00 AM  Mid-Block (not related to intersection)   \n52         1  3/29/2013 11:53:00 AM   At Intersection (intersection related)   \n79         1   3/28/2013 3:30:00 PM   At Intersection (intersection related)   \n90         0  10/11/2004 4:00:00 PM     Mid-Block (but intersection related)   \n\n   ROADCOND LIGHTCOND WEATHER ST_COLCODE  \n7       Dry  Daylight   Clear          5  \n25      Dry  Daylight   Clear          5  \n52      Dry   Unknown   Clear         45  \n79      Dry  Daylight   Clear         45  \n90      Dry  Daylight   Clear         52  "
                    },
                    "execution_count": 31,
                    "metadata": {},
                    "output_type": "execute_result"
                }
            ],
            "source": "bike_data = filter_data[filter_data['PEDCYLCOUNT'] > 0]\nbike_data.head()"
        },
        {
            "cell_type": "markdown",
            "metadata": {},
            "source": "#### Grouping the data by the various attributes that will contribute to the model show where certain feature data may need to be combined or re-engineered to produce more accurate results."
        },
        {
            "cell_type": "code",
            "execution_count": 44,
            "metadata": {},
            "outputs": [
                {
                    "name": "stdout",
                    "output_type": "stream",
                    "text": "(5484, 13)\n"
                },
                {
                    "data": {
                        "text/html": "<div>\n<style scoped>\n    .dataframe tbody tr th:only-of-type {\n        vertical-align: middle;\n    }\n\n    .dataframe tbody tr th {\n        vertical-align: top;\n    }\n\n    .dataframe thead th {\n        text-align: right;\n    }\n</style>\n<table border=\"1\" class=\"dataframe\">\n  <thead>\n    <tr style=\"text-align: right;\">\n      <th></th>\n      <th>OBJECTID</th>\n    </tr>\n    <tr>\n      <th>SEVERITYCODE</th>\n      <th></th>\n    </tr>\n  </thead>\n  <tbody>\n    <tr>\n      <th>1</th>\n      <td>679</td>\n    </tr>\n    <tr>\n      <th>2</th>\n      <td>4805</td>\n    </tr>\n  </tbody>\n</table>\n</div>",
                        "text/plain": "              OBJECTID\nSEVERITYCODE          \n1                  679\n2                 4805"
                    },
                    "execution_count": 44,
                    "metadata": {},
                    "output_type": "execute_result"
                }
            ],
            "source": "print(bike_data.shape)\nbike_data[['SEVERITYCODE','OBJECTID']].groupby(['SEVERITYCODE']).count()"
        },
        {
            "cell_type": "code",
            "execution_count": 40,
            "metadata": {},
            "outputs": [
                {
                    "data": {
                        "text/html": "<div>\n<style scoped>\n    .dataframe tbody tr th:only-of-type {\n        vertical-align: middle;\n    }\n\n    .dataframe tbody tr th {\n        vertical-align: top;\n    }\n\n    .dataframe thead th {\n        text-align: right;\n    }\n</style>\n<table border=\"1\" class=\"dataframe\">\n  <thead>\n    <tr style=\"text-align: right;\">\n      <th></th>\n      <th>SEVERITYCODE</th>\n    </tr>\n    <tr>\n      <th>WEATHER</th>\n      <th></th>\n    </tr>\n  </thead>\n  <tbody>\n    <tr>\n      <th>Clear</th>\n      <td>3953</td>\n    </tr>\n    <tr>\n      <th>Overcast</th>\n      <td>800</td>\n    </tr>\n    <tr>\n      <th>Raining</th>\n      <td>597</td>\n    </tr>\n    <tr>\n      <th>Unknown</th>\n      <td>113</td>\n    </tr>\n    <tr>\n      <th>Other</th>\n      <td>7</td>\n    </tr>\n    <tr>\n      <th>Fog/Smog/Smoke</th>\n      <td>5</td>\n    </tr>\n    <tr>\n      <th>Snowing</th>\n      <td>2</td>\n    </tr>\n    <tr>\n      <th>Blowing Sand/Dirt</th>\n      <td>1</td>\n    </tr>\n    <tr>\n      <th>Sleet/Hail/Freezing Rain</th>\n      <td>1</td>\n    </tr>\n  </tbody>\n</table>\n</div>",
                        "text/plain": "                          SEVERITYCODE\nWEATHER                               \nClear                             3953\nOvercast                           800\nRaining                            597\nUnknown                            113\nOther                                7\nFog/Smog/Smoke                       5\nSnowing                              2\nBlowing Sand/Dirt                    1\nSleet/Hail/Freezing Rain             1"
                    },
                    "execution_count": 40,
                    "metadata": {},
                    "output_type": "execute_result"
                }
            ],
            "source": "bike_data[['SEVERITYCODE','WEATHER']].groupby(['WEATHER']).count().sort_values('SEVERITYCODE',ascending=False)"
        },
        {
            "cell_type": "code",
            "execution_count": 39,
            "metadata": {},
            "outputs": [
                {
                    "data": {
                        "text/html": "<div>\n<style scoped>\n    .dataframe tbody tr th:only-of-type {\n        vertical-align: middle;\n    }\n\n    .dataframe tbody tr th {\n        vertical-align: top;\n    }\n\n    .dataframe thead th {\n        text-align: right;\n    }\n</style>\n<table border=\"1\" class=\"dataframe\">\n  <thead>\n    <tr style=\"text-align: right;\">\n      <th></th>\n      <th>SEVERITYCODE</th>\n    </tr>\n    <tr>\n      <th>ROADCOND</th>\n      <th></th>\n    </tr>\n  </thead>\n  <tbody>\n    <tr>\n      <th>Dry</th>\n      <td>4402</td>\n    </tr>\n    <tr>\n      <th>Wet</th>\n      <td>934</td>\n    </tr>\n    <tr>\n      <th>Unknown</th>\n      <td>122</td>\n    </tr>\n    <tr>\n      <th>Ice</th>\n      <td>10</td>\n    </tr>\n    <tr>\n      <th>Snow/Slush</th>\n      <td>4</td>\n    </tr>\n    <tr>\n      <th>Standing Water</th>\n      <td>3</td>\n    </tr>\n    <tr>\n      <th>Other</th>\n      <td>2</td>\n    </tr>\n    <tr>\n      <th>Sand/Mud/Dirt</th>\n      <td>2</td>\n    </tr>\n  </tbody>\n</table>\n</div>",
                        "text/plain": "                SEVERITYCODE\nROADCOND                    \nDry                     4402\nWet                      934\nUnknown                  122\nIce                       10\nSnow/Slush                 4\nStanding Water             3\nOther                      2\nSand/Mud/Dirt              2"
                    },
                    "execution_count": 39,
                    "metadata": {},
                    "output_type": "execute_result"
                }
            ],
            "source": "bike_data[['SEVERITYCODE','ROADCOND']].groupby(['ROADCOND']).count().sort_values('SEVERITYCODE',ascending=False)"
        },
        {
            "cell_type": "code",
            "execution_count": 41,
            "metadata": {},
            "outputs": [
                {
                    "data": {
                        "text/html": "<div>\n<style scoped>\n    .dataframe tbody tr th:only-of-type {\n        vertical-align: middle;\n    }\n\n    .dataframe tbody tr th {\n        vertical-align: top;\n    }\n\n    .dataframe thead th {\n        text-align: right;\n    }\n</style>\n<table border=\"1\" class=\"dataframe\">\n  <thead>\n    <tr style=\"text-align: right;\">\n      <th></th>\n      <th>SEVERITYCODE</th>\n    </tr>\n    <tr>\n      <th>JUNCTIONTYPE</th>\n      <th></th>\n    </tr>\n  </thead>\n  <tbody>\n    <tr>\n      <th>At Intersection (intersection related)</th>\n      <td>3104</td>\n    </tr>\n    <tr>\n      <th>Mid-Block (not related to intersection)</th>\n      <td>1487</td>\n    </tr>\n    <tr>\n      <th>Driveway Junction</th>\n      <td>570</td>\n    </tr>\n    <tr>\n      <th>Mid-Block (but intersection related)</th>\n      <td>248</td>\n    </tr>\n    <tr>\n      <th>At Intersection (but not related to intersection)</th>\n      <td>34</td>\n    </tr>\n    <tr>\n      <th>Ramp Junction</th>\n      <td>2</td>\n    </tr>\n  </tbody>\n</table>\n</div>",
                        "text/plain": "                                                   SEVERITYCODE\nJUNCTIONTYPE                                                   \nAt Intersection (intersection related)                     3104\nMid-Block (not related to intersection)                    1487\nDriveway Junction                                           570\nMid-Block (but intersection related)                        248\nAt Intersection (but not related to intersection)            34\nRamp Junction                                                 2"
                    },
                    "execution_count": 41,
                    "metadata": {},
                    "output_type": "execute_result"
                }
            ],
            "source": "bike_data[['SEVERITYCODE','JUNCTIONTYPE']].groupby(['JUNCTIONTYPE']).count().sort_values('SEVERITYCODE',ascending=False)"
        },
        {
            "cell_type": "code",
            "execution_count": 42,
            "metadata": {},
            "outputs": [
                {
                    "data": {
                        "text/html": "<div>\n<style scoped>\n    .dataframe tbody tr th:only-of-type {\n        vertical-align: middle;\n    }\n\n    .dataframe tbody tr th {\n        vertical-align: top;\n    }\n\n    .dataframe thead th {\n        text-align: right;\n    }\n</style>\n<table border=\"1\" class=\"dataframe\">\n  <thead>\n    <tr style=\"text-align: right;\">\n      <th></th>\n      <th>SEVERITYCODE</th>\n    </tr>\n    <tr>\n      <th>LIGHTCOND</th>\n      <th></th>\n    </tr>\n  </thead>\n  <tbody>\n    <tr>\n      <th>Daylight</th>\n      <td>4085</td>\n    </tr>\n    <tr>\n      <th>Dark - Street Lights On</th>\n      <td>917</td>\n    </tr>\n    <tr>\n      <th>Dusk</th>\n      <td>211</td>\n    </tr>\n    <tr>\n      <th>Dawn</th>\n      <td>107</td>\n    </tr>\n    <tr>\n      <th>Unknown</th>\n      <td>93</td>\n    </tr>\n    <tr>\n      <th>Dark - No Street Lights</th>\n      <td>33</td>\n    </tr>\n    <tr>\n      <th>Dark - Street Lights Off</th>\n      <td>29</td>\n    </tr>\n    <tr>\n      <th>Other</th>\n      <td>2</td>\n    </tr>\n    <tr>\n      <th>Dark - Unknown Lighting</th>\n      <td>1</td>\n    </tr>\n  </tbody>\n</table>\n</div>",
                        "text/plain": "                          SEVERITYCODE\nLIGHTCOND                             \nDaylight                          4085\nDark - Street Lights On            917\nDusk                               211\nDawn                               107\nUnknown                             93\nDark - No Street Lights             33\nDark - Street Lights Off            29\nOther                                2\nDark - Unknown Lighting              1"
                    },
                    "execution_count": 42,
                    "metadata": {},
                    "output_type": "execute_result"
                }
            ],
            "source": "bike_data[['SEVERITYCODE','LIGHTCOND']].groupby(['LIGHTCOND']).count().sort_values('SEVERITYCODE',ascending=False)"
        },
        {
            "cell_type": "markdown",
            "metadata": {},
            "source": "### A pair of classification models for personal injury collisions (SEVERITYCODE - 2) vs property damage collisions (SEVERITYCODE - 1) will allow us to train an unified model that will illustrate the factors that cyclists should be more aware of before setting out on a journey."
        },
        {
            "cell_type": "code",
            "execution_count": null,
            "metadata": {},
            "outputs": [],
            "source": ""
        }
    ],
    "metadata": {
        "kernelspec": {
            "display_name": "Python 3.6",
            "language": "python",
            "name": "python3"
        },
        "language_info": {
            "codemirror_mode": {
                "name": "ipython",
                "version": 3
            },
            "file_extension": ".py",
            "mimetype": "text/x-python",
            "name": "python",
            "nbconvert_exporter": "python",
            "pygments_lexer": "ipython3",
            "version": "3.6.9"
        }
    },
    "nbformat": 4,
    "nbformat_minor": 1
}