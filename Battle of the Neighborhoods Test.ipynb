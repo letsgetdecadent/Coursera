{
    "cells": [
        {
            "cell_type": "markdown",
            "metadata": {},
            "source": "# Introduction\n\nIncorporating Census Tract Level median household income data, I want to see what types of venues are more common in low, medium and high income areas of Washington, DC."
        },
        {
            "cell_type": "markdown",
            "metadata": {},
            "source": "### Census Tract Coordinates JSON"
        },
        {
            "cell_type": "markdown",
            "metadata": {},
            "source": "hidden cell below uploading json of a shape file from US Census detailing geographical coordinates of census tracts in Washington, DC"
        },
        {
            "cell_type": "code",
            "execution_count": 2,
            "metadata": {
                "scrolled": false
            },
            "outputs": [],
            "source": "# The code was removed by Watson Studio for sharing."
        },
        {
            "cell_type": "code",
            "execution_count": 3,
            "metadata": {},
            "outputs": [],
            "source": "import json\n\ncensus_data = json.loads(body)"
        },
        {
            "cell_type": "code",
            "execution_count": 4,
            "metadata": {},
            "outputs": [
                {
                    "data": {
                        "text/plain": "{'type': 'Feature',\n 'geometry': {'type': 'Polygon',\n  'coordinates': [[[-77.0365, 38.919284],\n    [-77.03649399999999, 38.919861],\n    [-77.036496, 38.920313],\n    [-77.03649399999999, 38.920364],\n    [-77.036489, 38.920964],\n    [-77.03649, 38.921673],\n    [-77.036487, 38.922609],\n    [-77.03648799999999, 38.922731999999996],\n    [-77.036491, 38.923179999999995],\n    [-77.036492, 38.923207999999995],\n    [-77.036491, 38.923249999999996],\n    [-77.036489, 38.92342],\n    [-77.036489, 38.924226999999995],\n    [-77.036484, 38.924765],\n    [-77.03648299999999, 38.924825999999996],\n    [-77.036486, 38.925604],\n    [-77.036486, 38.925793],\n    [-77.036487, 38.92588],\n    [-77.03648799999999, 38.926183],\n    [-77.036489, 38.926272],\n    [-77.036335, 38.926294],\n    [-77.035988, 38.92631],\n    [-77.035484, 38.926325],\n    [-77.034943, 38.926353999999996],\n    [-77.033605, 38.926435999999995],\n    [-77.033114, 38.926463999999996],\n    [-77.032721, 38.926488],\n    [-77.032629, 38.926500999999995],\n    [-77.03252499999999, 38.926527],\n    [-77.03240699999999, 38.926573],\n    [-77.032339, 38.925742],\n    [-77.032331, 38.925652],\n    [-77.032316, 38.925502],\n    [-77.032309, 38.925424],\n    [-77.03224999999999, 38.924827],\n    [-77.032242, 38.924755999999995],\n    [-77.03222, 38.924541],\n    [-77.03219299999999, 38.924284],\n    [-77.03214299999999, 38.923763],\n    [-77.03213199999999, 38.923635],\n    [-77.032072, 38.923012],\n    [-77.032038, 38.922686],\n    [-77.03201, 38.922428],\n    [-77.03200199999999, 38.922342],\n    [-77.03193, 38.921659999999996],\n    [-77.03187299999999, 38.921085999999995],\n    [-77.031865, 38.920998],\n    [-77.031841, 38.920756],\n    [-77.03183899999999, 38.92068],\n    [-77.03183899999999, 38.92064],\n    [-77.03184, 38.920601],\n    [-77.031841, 38.920556],\n    [-77.03184399999999, 38.920511],\n    [-77.031853, 38.920415999999996],\n    [-77.031866, 38.920322],\n    [-77.031932, 38.920106],\n    [-77.031941, 38.920063999999996],\n    [-77.03222099999999, 38.920006],\n    [-77.03329699999999, 38.919768],\n    [-77.03356699999999, 38.919706999999995],\n    [-77.033895, 38.91964],\n    [-77.033936, 38.919627999999996],\n    [-77.033974, 38.919613],\n    [-77.03401, 38.919594],\n    [-77.034043, 38.919571999999995],\n    [-77.03407299999999, 38.919548],\n    [-77.03410000000001, 38.919520999999996],\n    [-77.03433299999999, 38.919270999999995],\n    [-77.034414, 38.919183],\n    [-77.03472599999999, 38.919179],\n    [-77.03486, 38.91918],\n    [-77.035493, 38.919182],\n    [-77.035913, 38.919182],\n    [-77.036318, 38.919183],\n    [-77.036356, 38.919182],\n    [-77.036496, 38.919145],\n    [-77.0365, 38.919284]]]},\n 'properties': {'STATEFP': '11',\n  'COUNTYFP': '001',\n  'TRACTCE': '003700',\n  'GEOID': '11001003700',\n  'NAME': '37',\n  'NAMELSAD': 'Census Tract 37',\n  'MTFCC': 'G5020',\n  'FUNCSTAT': 'S',\n  'ALAND': 292372,\n  'AWATER': 0,\n  'INTPTLAT': '+38.9228614',\n  'INTPTLON': '-077.0343330'}}"
                    },
                    "execution_count": 4,
                    "metadata": {},
                    "output_type": "execute_result"
                }
            ],
            "source": "tract_data = census_data['features']\n\ntract_data[0]"
        },
        {
            "cell_type": "code",
            "execution_count": 5,
            "metadata": {},
            "outputs": [
                {
                    "data": {
                        "text/html": "<div>\n<style scoped>\n    .dataframe tbody tr th:only-of-type {\n        vertical-align: middle;\n    }\n\n    .dataframe tbody tr th {\n        vertical-align: top;\n    }\n\n    .dataframe thead th {\n        text-align: right;\n    }\n</style>\n<table border=\"1\" class=\"dataframe\">\n  <thead>\n    <tr style=\"text-align: right;\">\n      <th></th>\n      <th>Fips Code</th>\n      <th>Census Tract</th>\n      <th>Latitude</th>\n      <th>Longitude</th>\n    </tr>\n  </thead>\n  <tbody>\n  </tbody>\n</table>\n</div>",
                        "text/plain": "Empty DataFrame\nColumns: [Fips Code, Census Tract, Latitude, Longitude]\nIndex: []"
                    },
                    "execution_count": 5,
                    "metadata": {},
                    "output_type": "execute_result"
                }
            ],
            "source": "column_names = ['Fips Code', 'Census Tract', 'Latitude', 'Longitude']\n\nwashDC = pd.DataFrame(columns=column_names)\n\nwashDC"
        },
        {
            "cell_type": "code",
            "execution_count": 6,
            "metadata": {},
            "outputs": [],
            "source": "for data in tract_data:\n    GEOID = data['properties']['GEOID']\n    tractno = data['properties']['NAME']\n    coord = data['geometry']['coordinates']\n    lats=[]\n    lngs=[]\n    for i in coord[0]:\n        lats.append(i[1])\n        lngs.append(i[0])\n        \n    lat = sum(lats)/len(lats)\n    lng = sum(lngs)/len(lngs)\n    \n    washDC = washDC.append({'Fips Code': GEOID,\n                            'Census Tract': tractno,\n                            'Latitude':lat,\n                            'Longitude':lng}, ignore_index=True)"
        },
        {
            "cell_type": "code",
            "execution_count": 7,
            "metadata": {
                "scrolled": true
            },
            "outputs": [
                {
                    "data": {
                        "text/html": "<div>\n<style scoped>\n    .dataframe tbody tr th:only-of-type {\n        vertical-align: middle;\n    }\n\n    .dataframe tbody tr th {\n        vertical-align: top;\n    }\n\n    .dataframe thead th {\n        text-align: right;\n    }\n</style>\n<table border=\"1\" class=\"dataframe\">\n  <thead>\n    <tr style=\"text-align: right;\">\n      <th></th>\n      <th>Fips Code</th>\n      <th>Census Tract</th>\n      <th>Latitude</th>\n      <th>Longitude</th>\n    </tr>\n  </thead>\n  <tbody>\n    <tr>\n      <th>0</th>\n      <td>11001003700</td>\n      <td>37</td>\n      <td>38.922393</td>\n      <td>-77.034116</td>\n    </tr>\n    <tr>\n      <th>1</th>\n      <td>11001003800</td>\n      <td>38</td>\n      <td>38.920951</td>\n      <td>-77.039831</td>\n    </tr>\n    <tr>\n      <th>2</th>\n      <td>11001004001</td>\n      <td>40.01</td>\n      <td>38.920295</td>\n      <td>-77.046168</td>\n    </tr>\n    <tr>\n      <th>3</th>\n      <td>11001004002</td>\n      <td>40.02</td>\n      <td>38.918421</td>\n      <td>-77.043794</td>\n    </tr>\n    <tr>\n      <th>4</th>\n      <td>11001003600</td>\n      <td>36</td>\n      <td>38.923503</td>\n      <td>-77.030032</td>\n    </tr>\n  </tbody>\n</table>\n</div>",
                        "text/plain": "     Fips Code Census Tract   Latitude  Longitude\n0  11001003700           37  38.922393 -77.034116\n1  11001003800           38  38.920951 -77.039831\n2  11001004001        40.01  38.920295 -77.046168\n3  11001004002        40.02  38.918421 -77.043794\n4  11001003600           36  38.923503 -77.030032"
                    },
                    "execution_count": 7,
                    "metadata": {},
                    "output_type": "execute_result"
                }
            ],
            "source": "washDC.head()"
        },
        {
            "cell_type": "markdown",
            "metadata": {},
            "source": "### Census Tract Income Data"
        },
        {
            "cell_type": "markdown",
            "metadata": {},
            "source": "hidden cell below with my credentials uploading a CSV file of median household income from opendata.dc.gov"
        },
        {
            "cell_type": "code",
            "execution_count": 8,
            "metadata": {},
            "outputs": [],
            "source": "# The code was removed by Watson Studio for sharing."
        },
        {
            "cell_type": "code",
            "execution_count": 9,
            "metadata": {},
            "outputs": [
                {
                    "data": {
                        "text/html": "<div>\n<style scoped>\n    .dataframe tbody tr th:only-of-type {\n        vertical-align: middle;\n    }\n\n    .dataframe tbody tr th {\n        vertical-align: top;\n    }\n\n    .dataframe thead th {\n        text-align: right;\n    }\n</style>\n<table border=\"1\" class=\"dataframe\">\n  <thead>\n    <tr style=\"text-align: right;\">\n      <th></th>\n      <th>OBJECTID</th>\n      <th>GEOID</th>\n      <th>ALAND</th>\n      <th>AWATER</th>\n      <th>NAME</th>\n      <th>State</th>\n      <th>County</th>\n      <th>B19049_001E</th>\n      <th>B19049_001M</th>\n      <th>B19049_002E</th>\n      <th>...</th>\n      <th>B19053_002E</th>\n      <th>B19053_002M</th>\n      <th>B19053_003E</th>\n      <th>B19053_003M</th>\n      <th>B19053_calc_pctSelfempE</th>\n      <th>B19053_calc_pctSelfempM</th>\n      <th>Shape__Area</th>\n      <th>Shape__Length</th>\n      <th>Shape__Area_2</th>\n      <th>Shape__Length_2</th>\n    </tr>\n  </thead>\n  <tbody>\n    <tr>\n      <th>0</th>\n      <td>1</td>\n      <td>11001000100</td>\n      <td>1907610</td>\n      <td>512798</td>\n      <td>Census Tract 1</td>\n      <td>District of Columbia</td>\n      <td>District of Columbia</td>\n      <td>191146.0</td>\n      <td>25411.0</td>\n      <td>NaN</td>\n      <td>...</td>\n      <td>358</td>\n      <td>97</td>\n      <td>1993</td>\n      <td>197</td>\n      <td>15.2</td>\n      <td>3.946100</td>\n      <td>3.157970e+06</td>\n      <td>16275.593084</td>\n      <td>3.157970e+06</td>\n      <td>16275.593084</td>\n    </tr>\n    <tr>\n      <th>1</th>\n      <td>2</td>\n      <td>11001000201</td>\n      <td>503312</td>\n      <td>0</td>\n      <td>Census Tract 2.01</td>\n      <td>District of Columbia</td>\n      <td>District of Columbia</td>\n      <td>NaN</td>\n      <td>NaN</td>\n      <td>NaN</td>\n      <td>...</td>\n      <td>0</td>\n      <td>12</td>\n      <td>0</td>\n      <td>12</td>\n      <td>NaN</td>\n      <td>NaN</td>\n      <td>8.324142e+05</td>\n      <td>4265.956241</td>\n      <td>8.324142e+05</td>\n      <td>4265.956241</td>\n    </tr>\n    <tr>\n      <th>2</th>\n      <td>3</td>\n      <td>11001000202</td>\n      <td>776437</td>\n      <td>428754</td>\n      <td>Census Tract 2.02</td>\n      <td>District of Columbia</td>\n      <td>District of Columbia</td>\n      <td>170987.0</td>\n      <td>28290.0</td>\n      <td>NaN</td>\n      <td>...</td>\n      <td>313</td>\n      <td>125</td>\n      <td>1250</td>\n      <td>179</td>\n      <td>20.0</td>\n      <td>7.753475</td>\n      <td>1.284189e+06</td>\n      <td>13196.755434</td>\n      <td>1.284189e+06</td>\n      <td>13196.755434</td>\n    </tr>\n    <tr>\n      <th>3</th>\n      <td>4</td>\n      <td>11001000300</td>\n      <td>1010802</td>\n      <td>2334</td>\n      <td>Census Tract 3</td>\n      <td>District of Columbia</td>\n      <td>District of Columbia</td>\n      <td>152120.0</td>\n      <td>21528.0</td>\n      <td>36047.0</td>\n      <td>...</td>\n      <td>245</td>\n      <td>99</td>\n      <td>2210</td>\n      <td>149</td>\n      <td>10.0</td>\n      <td>4.007263</td>\n      <td>1.675991e+06</td>\n      <td>5244.314206</td>\n      <td>1.675991e+06</td>\n      <td>5244.314206</td>\n    </tr>\n    <tr>\n      <th>4</th>\n      <td>5</td>\n      <td>11001000400</td>\n      <td>1542759</td>\n      <td>69</td>\n      <td>Census Tract 4</td>\n      <td>District of Columbia</td>\n      <td>District of Columbia</td>\n      <td>126731.0</td>\n      <td>38147.0</td>\n      <td>NaN</td>\n      <td>...</td>\n      <td>115</td>\n      <td>34</td>\n      <td>503</td>\n      <td>54</td>\n      <td>18.6</td>\n      <td>5.265075</td>\n      <td>2.552695e+06</td>\n      <td>7468.467697</td>\n      <td>2.552695e+06</td>\n      <td>7468.467697</td>\n    </tr>\n  </tbody>\n</table>\n<p>5 rows \u00d7 45 columns</p>\n</div>",
                        "text/plain": "   OBJECTID        GEOID    ALAND  AWATER               NAME  \\\n0         1  11001000100  1907610  512798     Census Tract 1   \n1         2  11001000201   503312       0  Census Tract 2.01   \n2         3  11001000202   776437  428754  Census Tract 2.02   \n3         4  11001000300  1010802    2334     Census Tract 3   \n4         5  11001000400  1542759      69     Census Tract 4   \n\n                  State                County  B19049_001E  B19049_001M  \\\n0  District of Columbia  District of Columbia     191146.0      25411.0   \n1  District of Columbia  District of Columbia          NaN          NaN   \n2  District of Columbia  District of Columbia     170987.0      28290.0   \n3  District of Columbia  District of Columbia     152120.0      21528.0   \n4  District of Columbia  District of Columbia     126731.0      38147.0   \n\n   B19049_002E  ...  B19053_002E  B19053_002M  B19053_003E  B19053_003M  \\\n0          NaN  ...          358           97         1993          197   \n1          NaN  ...            0           12            0           12   \n2          NaN  ...          313          125         1250          179   \n3      36047.0  ...          245           99         2210          149   \n4          NaN  ...          115           34          503           54   \n\n   B19053_calc_pctSelfempE  B19053_calc_pctSelfempM   Shape__Area  \\\n0                     15.2                 3.946100  3.157970e+06   \n1                      NaN                      NaN  8.324142e+05   \n2                     20.0                 7.753475  1.284189e+06   \n3                     10.0                 4.007263  1.675991e+06   \n4                     18.6                 5.265075  2.552695e+06   \n\n   Shape__Length  Shape__Area_2  Shape__Length_2  \n0   16275.593084   3.157970e+06     16275.593084  \n1    4265.956241   8.324142e+05      4265.956241  \n2   13196.755434   1.284189e+06     13196.755434  \n3    5244.314206   1.675991e+06      5244.314206  \n4    7468.467697   2.552695e+06      7468.467697  \n\n[5 rows x 45 columns]"
                    },
                    "execution_count": 9,
                    "metadata": {},
                    "output_type": "execute_result"
                }
            ],
            "source": "median_inc = pd.read_csv(body2)\nmedian_inc.head()"
        },
        {
            "cell_type": "code",
            "execution_count": 10,
            "metadata": {},
            "outputs": [
                {
                    "data": {
                        "text/html": "<div>\n<style scoped>\n    .dataframe tbody tr th:only-of-type {\n        vertical-align: middle;\n    }\n\n    .dataframe tbody tr th {\n        vertical-align: top;\n    }\n\n    .dataframe thead th {\n        text-align: right;\n    }\n</style>\n<table border=\"1\" class=\"dataframe\">\n  <thead>\n    <tr style=\"text-align: right;\">\n      <th></th>\n      <th>GEOID</th>\n      <th>NAME</th>\n      <th>B19049_001E</th>\n      <th>B19053_001E</th>\n    </tr>\n  </thead>\n  <tbody>\n    <tr>\n      <th>0</th>\n      <td>11001000100</td>\n      <td>Census Tract 1</td>\n      <td>191146.0</td>\n      <td>2351</td>\n    </tr>\n    <tr>\n      <th>1</th>\n      <td>11001000201</td>\n      <td>Census Tract 2.01</td>\n      <td>NaN</td>\n      <td>0</td>\n    </tr>\n    <tr>\n      <th>2</th>\n      <td>11001000202</td>\n      <td>Census Tract 2.02</td>\n      <td>170987.0</td>\n      <td>1563</td>\n    </tr>\n    <tr>\n      <th>3</th>\n      <td>11001000300</td>\n      <td>Census Tract 3</td>\n      <td>152120.0</td>\n      <td>2455</td>\n    </tr>\n    <tr>\n      <th>4</th>\n      <td>11001000400</td>\n      <td>Census Tract 4</td>\n      <td>126731.0</td>\n      <td>618</td>\n    </tr>\n  </tbody>\n</table>\n</div>",
                        "text/plain": "         GEOID               NAME  B19049_001E  B19053_001E\n0  11001000100     Census Tract 1     191146.0         2351\n1  11001000201  Census Tract 2.01          NaN            0\n2  11001000202  Census Tract 2.02     170987.0         1563\n3  11001000300     Census Tract 3     152120.0         2455\n4  11001000400     Census Tract 4     126731.0          618"
                    },
                    "execution_count": 10,
                    "metadata": {},
                    "output_type": "execute_result"
                }
            ],
            "source": "dc_income = median_inc[['GEOID','NAME','B19049_001E','B19053_001E']]\ndc_income.head()"
        },
        {
            "cell_type": "code",
            "execution_count": 11,
            "metadata": {},
            "outputs": [
                {
                    "name": "stderr",
                    "output_type": "stream",
                    "text": "/opt/conda/envs/Python36/lib/python3.6/site-packages/pandas/core/frame.py:4025: SettingWithCopyWarning: \nA value is trying to be set on a copy of a slice from a DataFrame\n\nSee the caveats in the documentation: http://pandas.pydata.org/pandas-docs/stable/indexing.html#indexing-view-versus-copy\n  return super(DataFrame, self).rename(**kwargs)\n"
                },
                {
                    "data": {
                        "text/html": "<div>\n<style scoped>\n    .dataframe tbody tr th:only-of-type {\n        vertical-align: middle;\n    }\n\n    .dataframe tbody tr th {\n        vertical-align: top;\n    }\n\n    .dataframe thead th {\n        text-align: right;\n    }\n</style>\n<table border=\"1\" class=\"dataframe\">\n  <thead>\n    <tr style=\"text-align: right;\">\n      <th></th>\n      <th>GEOID</th>\n      <th>NAME</th>\n      <th>Median_Household_Income</th>\n      <th>Total_Households</th>\n    </tr>\n  </thead>\n  <tbody>\n    <tr>\n      <th>0</th>\n      <td>11001000100</td>\n      <td>Census Tract 1</td>\n      <td>191146.0</td>\n      <td>2351</td>\n    </tr>\n    <tr>\n      <th>1</th>\n      <td>11001000201</td>\n      <td>Census Tract 2.01</td>\n      <td>NaN</td>\n      <td>0</td>\n    </tr>\n    <tr>\n      <th>2</th>\n      <td>11001000202</td>\n      <td>Census Tract 2.02</td>\n      <td>170987.0</td>\n      <td>1563</td>\n    </tr>\n    <tr>\n      <th>3</th>\n      <td>11001000300</td>\n      <td>Census Tract 3</td>\n      <td>152120.0</td>\n      <td>2455</td>\n    </tr>\n    <tr>\n      <th>4</th>\n      <td>11001000400</td>\n      <td>Census Tract 4</td>\n      <td>126731.0</td>\n      <td>618</td>\n    </tr>\n  </tbody>\n</table>\n</div>",
                        "text/plain": "         GEOID               NAME  Median_Household_Income  Total_Households\n0  11001000100     Census Tract 1                 191146.0              2351\n1  11001000201  Census Tract 2.01                      NaN                 0\n2  11001000202  Census Tract 2.02                 170987.0              1563\n3  11001000300     Census Tract 3                 152120.0              2455\n4  11001000400     Census Tract 4                 126731.0               618"
                    },
                    "execution_count": 11,
                    "metadata": {},
                    "output_type": "execute_result"
                }
            ],
            "source": "dc_income.rename(columns={'B19049_001E':'Median_Household_Income', 'B19053_001E':'Total_Households'},inplace=True)\ndc_income.head()"
        },
        {
            "cell_type": "code",
            "execution_count": 12,
            "metadata": {},
            "outputs": [
                {
                    "name": "stderr",
                    "output_type": "stream",
                    "text": "/opt/conda/envs/Python36/lib/python3.6/site-packages/ipykernel/__main__.py:1: SettingWithCopyWarning: \nA value is trying to be set on a copy of a slice from a DataFrame\n\nSee the caveats in the documentation: http://pandas.pydata.org/pandas-docs/stable/indexing.html#indexing-view-versus-copy\n  if __name__ == '__main__':\n"
                },
                {
                    "data": {
                        "text/html": "<div>\n<style scoped>\n    .dataframe tbody tr th:only-of-type {\n        vertical-align: middle;\n    }\n\n    .dataframe tbody tr th {\n        vertical-align: top;\n    }\n\n    .dataframe thead th {\n        text-align: right;\n    }\n</style>\n<table border=\"1\" class=\"dataframe\">\n  <thead>\n    <tr style=\"text-align: right;\">\n      <th></th>\n      <th>GEOID</th>\n      <th>NAME</th>\n      <th>Median_Household_Income</th>\n      <th>Total_Households</th>\n    </tr>\n  </thead>\n  <tbody>\n    <tr>\n      <th>0</th>\n      <td>11001000100</td>\n      <td>Census Tract 1</td>\n      <td>191146.0</td>\n      <td>2351</td>\n    </tr>\n    <tr>\n      <th>1</th>\n      <td>11001000202</td>\n      <td>Census Tract 2.02</td>\n      <td>170987.0</td>\n      <td>1563</td>\n    </tr>\n    <tr>\n      <th>2</th>\n      <td>11001000300</td>\n      <td>Census Tract 3</td>\n      <td>152120.0</td>\n      <td>2455</td>\n    </tr>\n    <tr>\n      <th>3</th>\n      <td>11001000400</td>\n      <td>Census Tract 4</td>\n      <td>126731.0</td>\n      <td>618</td>\n    </tr>\n    <tr>\n      <th>4</th>\n      <td>11001000501</td>\n      <td>Census Tract 5.01</td>\n      <td>116303.0</td>\n      <td>1888</td>\n    </tr>\n  </tbody>\n</table>\n</div>",
                        "text/plain": "         GEOID               NAME  Median_Household_Income  Total_Households\n0  11001000100     Census Tract 1                 191146.0              2351\n1  11001000202  Census Tract 2.02                 170987.0              1563\n2  11001000300     Census Tract 3                 152120.0              2455\n3  11001000400     Census Tract 4                 126731.0               618\n4  11001000501  Census Tract 5.01                 116303.0              1888"
                    },
                    "execution_count": 12,
                    "metadata": {},
                    "output_type": "execute_result"
                }
            ],
            "source": "dc_income.dropna(inplace=True)\ndc_income.reset_index(drop=True, inplace=True)\ndc_income.head()"
        },
        {
            "cell_type": "code",
            "execution_count": 14,
            "metadata": {},
            "outputs": [
                {
                    "data": {
                        "text/html": "<div>\n<style scoped>\n    .dataframe tbody tr th:only-of-type {\n        vertical-align: middle;\n    }\n\n    .dataframe tbody tr th {\n        vertical-align: top;\n    }\n\n    .dataframe thead th {\n        text-align: right;\n    }\n</style>\n<table border=\"1\" class=\"dataframe\">\n  <thead>\n    <tr style=\"text-align: right;\">\n      <th></th>\n      <th>GEOID</th>\n      <th>Median_Household_Income</th>\n      <th>Total_Households</th>\n    </tr>\n  </thead>\n  <tbody>\n    <tr>\n      <th>count</th>\n      <td>1.770000e+02</td>\n      <td>177.00000</td>\n      <td>177.000000</td>\n    </tr>\n    <tr>\n      <th>mean</th>\n      <td>1.100101e+10</td>\n      <td>87428.00000</td>\n      <td>1589.169492</td>\n    </tr>\n    <tr>\n      <th>std</th>\n      <td>3.264192e+03</td>\n      <td>46242.09342</td>\n      <td>729.377096</td>\n    </tr>\n    <tr>\n      <th>min</th>\n      <td>1.100100e+10</td>\n      <td>13750.00000</td>\n      <td>32.000000</td>\n    </tr>\n    <tr>\n      <th>25%</th>\n      <td>1.100100e+10</td>\n      <td>45278.00000</td>\n      <td>1101.000000</td>\n    </tr>\n    <tr>\n      <th>50%</th>\n      <td>1.100101e+10</td>\n      <td>84375.00000</td>\n      <td>1428.000000</td>\n    </tr>\n    <tr>\n      <th>75%</th>\n      <td>1.100101e+10</td>\n      <td>115667.00000</td>\n      <td>1875.000000</td>\n    </tr>\n    <tr>\n      <th>max</th>\n      <td>1.100101e+10</td>\n      <td>250001.00000</td>\n      <td>4811.000000</td>\n    </tr>\n  </tbody>\n</table>\n</div>",
                        "text/plain": "              GEOID  Median_Household_Income  Total_Households\ncount  1.770000e+02                177.00000        177.000000\nmean   1.100101e+10              87428.00000       1589.169492\nstd    3.264192e+03              46242.09342        729.377096\nmin    1.100100e+10              13750.00000         32.000000\n25%    1.100100e+10              45278.00000       1101.000000\n50%    1.100101e+10              84375.00000       1428.000000\n75%    1.100101e+10             115667.00000       1875.000000\nmax    1.100101e+10             250001.00000       4811.000000"
                    },
                    "execution_count": 14,
                    "metadata": {},
                    "output_type": "execute_result"
                }
            ],
            "source": "dc_income.describe()"
        },
        {
            "cell_type": "code",
            "execution_count": null,
            "metadata": {},
            "outputs": [],
            "source": ""
        }
    ],
    "metadata": {
        "kernelspec": {
            "display_name": "Python 3.6",
            "language": "python",
            "name": "python3"
        },
        "language_info": {
            "codemirror_mode": {
                "name": "ipython",
                "version": 3
            },
            "file_extension": ".py",
            "mimetype": "text/x-python",
            "name": "python",
            "nbconvert_exporter": "python",
            "pygments_lexer": "ipython3",
            "version": "3.6.9"
        }
    },
    "nbformat": 4,
    "nbformat_minor": 1
}